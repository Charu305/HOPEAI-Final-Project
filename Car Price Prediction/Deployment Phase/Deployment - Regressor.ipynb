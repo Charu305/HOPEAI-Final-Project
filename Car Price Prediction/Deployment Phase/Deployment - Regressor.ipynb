{
 "cells": [
  {
   "cell_type": "code",
   "execution_count": 20,
   "id": "cd8d81c5-9ab2-4d49-8c06-9687cfb34918",
   "metadata": {},
   "outputs": [],
   "source": [
    "import pickle\n",
    "import warnings\n",
    "warnings.filterwarnings(\"ignore\")"
   ]
  },
  {
   "cell_type": "code",
   "execution_count": 3,
   "id": "e7e93078-7303-4ff4-9fc9-1df0b61b68fd",
   "metadata": {},
   "outputs": [],
   "source": [
    "sc = pickle.load(open('Scaler.pkl', 'rb'))"
   ]
  },
  {
   "cell_type": "code",
   "execution_count": 22,
   "id": "719bd0c8-13a5-4659-be73-5d47045e1b4f",
   "metadata": {},
   "outputs": [
    {
     "name": "stdin",
     "output_type": "stream",
     "text": [
      "Enter car make:  Subaru\n"
     ]
    },
    {
     "name": "stdout",
     "output_type": "stream",
     "text": [
      "Encoded make value: 20\n"
     ]
    }
   ],
   "source": [
    "encoders = pickle.load(open('label_encoders.pkl', 'rb'))\n",
    "make_input = input(\"Enter car make: \")\n",
    "\n",
    "if make_input in encoders['make'].classes_:\n",
    "    make_value = encoders['make'].transform([make_input])[0]\n",
    "else:\n",
    "    print(f\"⚠️ '{make_input}' not found in training data. Assigning default value -1.\")\n",
    "    make_value = -1\n",
    "print(\"Encoded make value:\", make_value)"
   ]
  },
  {
   "cell_type": "code",
   "execution_count": 21,
   "id": "578097fc-bff0-411b-9576-11b2ece2d5f2",
   "metadata": {},
   "outputs": [],
   "source": [
    "preinupt = sc.transform ([[make_value,2016.0,103199,188.0,9.0]])"
   ]
  },
  {
   "cell_type": "code",
   "execution_count": 17,
   "id": "f30aaa3b-c332-4a5c-967a-5b174e5bcbd8",
   "metadata": {},
   "outputs": [],
   "source": [
    "loaded_model = pickle.load(open('final_RF_Regressor.sav','rb'))"
   ]
  },
  {
   "cell_type": "code",
   "execution_count": 18,
   "id": "86754d9c-c069-4b76-9c7d-4cfa3e4b4e51",
   "metadata": {},
   "outputs": [],
   "source": [
    "result=loaded_model.predict(preinupt)"
   ]
  },
  {
   "cell_type": "code",
   "execution_count": 19,
   "id": "85e4cc2f-1764-4452-a63c-205c208ce3b0",
   "metadata": {},
   "outputs": [
    {
     "data": {
      "text/plain": [
       "array([11858.9359])"
      ]
     },
     "execution_count": 19,
     "metadata": {},
     "output_type": "execute_result"
    }
   ],
   "source": [
    "result"
   ]
  },
  {
   "cell_type": "code",
   "execution_count": null,
   "id": "442a2985-eb48-4ede-99ed-b50b48a1d9f1",
   "metadata": {},
   "outputs": [],
   "source": []
  }
 ],
 "metadata": {
  "kernelspec": {
   "display_name": "Python 3 (ipykernel)",
   "language": "python",
   "name": "python3"
  },
  "language_info": {
   "codemirror_mode": {
    "name": "ipython",
    "version": 3
   },
   "file_extension": ".py",
   "mimetype": "text/x-python",
   "name": "python",
   "nbconvert_exporter": "python",
   "pygments_lexer": "ipython3",
   "version": "3.12.4"
  }
 },
 "nbformat": 4,
 "nbformat_minor": 5
}
