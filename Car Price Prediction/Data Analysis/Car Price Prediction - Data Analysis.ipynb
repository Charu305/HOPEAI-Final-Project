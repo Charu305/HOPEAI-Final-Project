{
 "cells": [
  {
   "cell_type": "code",
   "execution_count": 15,
   "id": "8a8e2706-78ad-4574-8fcf-95790234b489",
   "metadata": {},
   "outputs": [],
   "source": [
    "numeric_df = dataset.select_dtypes(include=['int64', 'float64'])"
   ]
  },
  {
   "cell_type": "code",
   "execution_count": 16,
   "id": "bd69de9a-2bfa-4e54-ab0b-815b0516b3f3",
   "metadata": {},
   "outputs": [
    {
     "data": {
      "text/html": [
       "<div>\n",
       "<style scoped>\n",
       "    .dataframe tbody tr th:only-of-type {\n",
       "        vertical-align: middle;\n",
       "    }\n",
       "\n",
       "    .dataframe tbody tr th {\n",
       "        vertical-align: top;\n",
       "    }\n",
       "\n",
       "    .dataframe thead th {\n",
       "        text-align: right;\n",
       "    }\n",
       "</style>\n",
       "<table border=\"1\" class=\"dataframe\">\n",
       "  <thead>\n",
       "    <tr style=\"text-align: right;\">\n",
       "      <th></th>\n",
       "      <th>year</th>\n",
       "      <th>mileage</th>\n",
       "      <th>engine_hp</th>\n",
       "      <th>owner_count</th>\n",
       "      <th>vehicle_age</th>\n",
       "      <th>mileage_per_year</th>\n",
       "      <th>brand_popularity</th>\n",
       "      <th>price</th>\n",
       "    </tr>\n",
       "  </thead>\n",
       "  <tbody>\n",
       "    <tr>\n",
       "      <th>year</th>\n",
       "      <td>1.000000</td>\n",
       "      <td>-0.782824</td>\n",
       "      <td>-0.001647</td>\n",
       "      <td>-0.648160</td>\n",
       "      <td>-0.998914</td>\n",
       "      <td>-0.115253</td>\n",
       "      <td>-0.005493</td>\n",
       "      <td>0.663266</td>\n",
       "    </tr>\n",
       "    <tr>\n",
       "      <th>mileage</th>\n",
       "      <td>-0.782824</td>\n",
       "      <td>1.000000</td>\n",
       "      <td>-0.001158</td>\n",
       "      <td>0.513431</td>\n",
       "      <td>0.782042</td>\n",
       "      <td>0.604157</td>\n",
       "      <td>0.003359</td>\n",
       "      <td>-0.617453</td>\n",
       "    </tr>\n",
       "    <tr>\n",
       "      <th>engine_hp</th>\n",
       "      <td>-0.001647</td>\n",
       "      <td>-0.001158</td>\n",
       "      <td>1.000000</td>\n",
       "      <td>-0.004388</td>\n",
       "      <td>0.001457</td>\n",
       "      <td>-0.002433</td>\n",
       "      <td>0.081157</td>\n",
       "      <td>0.654184</td>\n",
       "    </tr>\n",
       "    <tr>\n",
       "      <th>owner_count</th>\n",
       "      <td>-0.648160</td>\n",
       "      <td>0.513431</td>\n",
       "      <td>-0.004388</td>\n",
       "      <td>1.000000</td>\n",
       "      <td>0.645281</td>\n",
       "      <td>0.094131</td>\n",
       "      <td>-0.000119</td>\n",
       "      <td>-0.452540</td>\n",
       "    </tr>\n",
       "    <tr>\n",
       "      <th>vehicle_age</th>\n",
       "      <td>-0.998914</td>\n",
       "      <td>0.782042</td>\n",
       "      <td>0.001457</td>\n",
       "      <td>0.645281</td>\n",
       "      <td>1.000000</td>\n",
       "      <td>0.099930</td>\n",
       "      <td>0.005747</td>\n",
       "      <td>-0.661557</td>\n",
       "    </tr>\n",
       "    <tr>\n",
       "      <th>mileage_per_year</th>\n",
       "      <td>-0.115253</td>\n",
       "      <td>0.604157</td>\n",
       "      <td>-0.002433</td>\n",
       "      <td>0.094131</td>\n",
       "      <td>0.099930</td>\n",
       "      <td>1.000000</td>\n",
       "      <td>-0.000332</td>\n",
       "      <td>-0.216261</td>\n",
       "    </tr>\n",
       "    <tr>\n",
       "      <th>brand_popularity</th>\n",
       "      <td>-0.005493</td>\n",
       "      <td>0.003359</td>\n",
       "      <td>0.081157</td>\n",
       "      <td>-0.000119</td>\n",
       "      <td>0.005747</td>\n",
       "      <td>-0.000332</td>\n",
       "      <td>1.000000</td>\n",
       "      <td>0.056355</td>\n",
       "    </tr>\n",
       "    <tr>\n",
       "      <th>price</th>\n",
       "      <td>0.663266</td>\n",
       "      <td>-0.617453</td>\n",
       "      <td>0.654184</td>\n",
       "      <td>-0.452540</td>\n",
       "      <td>-0.661557</td>\n",
       "      <td>-0.216261</td>\n",
       "      <td>0.056355</td>\n",
       "      <td>1.000000</td>\n",
       "    </tr>\n",
       "  </tbody>\n",
       "</table>\n",
       "</div>"
      ],
      "text/plain": [
       "                      year   mileage  engine_hp  owner_count  vehicle_age  \\\n",
       "year              1.000000 -0.782824  -0.001647    -0.648160    -0.998914   \n",
       "mileage          -0.782824  1.000000  -0.001158     0.513431     0.782042   \n",
       "engine_hp        -0.001647 -0.001158   1.000000    -0.004388     0.001457   \n",
       "owner_count      -0.648160  0.513431  -0.004388     1.000000     0.645281   \n",
       "vehicle_age      -0.998914  0.782042   0.001457     0.645281     1.000000   \n",
       "mileage_per_year -0.115253  0.604157  -0.002433     0.094131     0.099930   \n",
       "brand_popularity -0.005493  0.003359   0.081157    -0.000119     0.005747   \n",
       "price             0.663266 -0.617453   0.654184    -0.452540    -0.661557   \n",
       "\n",
       "                  mileage_per_year  brand_popularity     price  \n",
       "year                     -0.115253         -0.005493  0.663266  \n",
       "mileage                   0.604157          0.003359 -0.617453  \n",
       "engine_hp                -0.002433          0.081157  0.654184  \n",
       "owner_count               0.094131         -0.000119 -0.452540  \n",
       "vehicle_age               0.099930          0.005747 -0.661557  \n",
       "mileage_per_year          1.000000         -0.000332 -0.216261  \n",
       "brand_popularity         -0.000332          1.000000  0.056355  \n",
       "price                    -0.216261          0.056355  1.000000  "
      ]
     },
     "execution_count": 16,
     "metadata": {},
     "output_type": "execute_result"
    }
   ],
   "source": [
    "numeric_df.corr()"
   ]
  },
  {
   "cell_type": "markdown",
   "id": "3b00ac21-688a-48d0-8832-4b748a77cd26",
   "metadata": {},
   "source": [
    "# What is the relation between price and Vehicle Age "
   ]
  },
  {
   "cell_type": "markdown",
   "id": "a2c9d0fb-5b26-46d8-ada2-9a234103c312",
   "metadata": {},
   "source": [
    "Vehicle age shows a strong negative correlation (-0.66) with price, indicating that as cars get older, their market value decreases significantly."
   ]
  },
  {
   "cell_type": "markdown",
   "id": "002471ff-439a-4648-a803-ec9f131a4152",
   "metadata": {},
   "source": [
    "# What is the relation between price and Engine_hp"
   ]
  },
  {
   "cell_type": "markdown",
   "id": "9bb7f47c-97e8-43a9-ba7c-ccbe123b9bee",
   "metadata": {},
   "source": [
    "The correlation between engine horsepower (engine_hp) and price is 0.654184, indicating a strong positive correlation.\n",
    "This means that cars with higher horsepower generally have higher prices, as increased engine power is often associated with better performance, premium features, and higher-end models."
   ]
  },
  {
   "cell_type": "code",
   "execution_count": 17,
   "id": "702f3dde-3eb4-4b64-ab33-85fe0cda75be",
   "metadata": {},
   "outputs": [
    {
     "data": {
      "text/html": [
       "<div>\n",
       "<style scoped>\n",
       "    .dataframe tbody tr th:only-of-type {\n",
       "        vertical-align: middle;\n",
       "    }\n",
       "\n",
       "    .dataframe tbody tr th {\n",
       "        vertical-align: top;\n",
       "    }\n",
       "\n",
       "    .dataframe thead th {\n",
       "        text-align: right;\n",
       "    }\n",
       "</style>\n",
       "<table border=\"1\" class=\"dataframe\">\n",
       "  <thead>\n",
       "    <tr style=\"text-align: right;\">\n",
       "      <th></th>\n",
       "      <th>year</th>\n",
       "      <th>mileage</th>\n",
       "      <th>engine_hp</th>\n",
       "      <th>owner_count</th>\n",
       "      <th>vehicle_age</th>\n",
       "      <th>mileage_per_year</th>\n",
       "      <th>brand_popularity</th>\n",
       "      <th>price</th>\n",
       "    </tr>\n",
       "  </thead>\n",
       "  <tbody>\n",
       "    <tr>\n",
       "      <th>year</th>\n",
       "      <td>15.182354</td>\n",
       "      <td>-2.193221e+05</td>\n",
       "      <td>-0.600832</td>\n",
       "      <td>-3.901281e+00</td>\n",
       "      <td>-14.887997</td>\n",
       "      <td>-2.745978e+03</td>\n",
       "      <td>-5.022443e-06</td>\n",
       "      <td>3.529467e+04</td>\n",
       "    </tr>\n",
       "    <tr>\n",
       "      <th>mileage</th>\n",
       "      <td>-219322.148802</td>\n",
       "      <td>5.170082e+09</td>\n",
       "      <td>-7796.967274</td>\n",
       "      <td>5.702773e+04</td>\n",
       "      <td>215088.804564</td>\n",
       "      <td>2.656292e+08</td>\n",
       "      <td>5.667725e-02</td>\n",
       "      <td>-6.063236e+08</td>\n",
       "    </tr>\n",
       "    <tr>\n",
       "      <th>engine_hp</th>\n",
       "      <td>-0.600832</td>\n",
       "      <td>-7.796967e+03</td>\n",
       "      <td>8764.045678</td>\n",
       "      <td>-6.345823e-01</td>\n",
       "      <td>0.521727</td>\n",
       "      <td>-1.392864e+03</td>\n",
       "      <td>1.782880e-03</td>\n",
       "      <td>8.363800e+05</td>\n",
       "    </tr>\n",
       "    <tr>\n",
       "      <th>owner_count</th>\n",
       "      <td>-3.901281</td>\n",
       "      <td>5.702773e+04</td>\n",
       "      <td>-0.634582</td>\n",
       "      <td>2.386222e+00</td>\n",
       "      <td>3.812790</td>\n",
       "      <td>8.891277e+02</td>\n",
       "      <td>-4.307409e-08</td>\n",
       "      <td>-9.546948e+03</td>\n",
       "    </tr>\n",
       "    <tr>\n",
       "      <th>vehicle_age</th>\n",
       "      <td>-14.887997</td>\n",
       "      <td>2.150888e+05</td>\n",
       "      <td>0.521727</td>\n",
       "      <td>3.812790e+00</td>\n",
       "      <td>14.631122</td>\n",
       "      <td>2.337296e+03</td>\n",
       "      <td>5.158589e-06</td>\n",
       "      <td>-3.455871e+04</td>\n",
       "    </tr>\n",
       "    <tr>\n",
       "      <th>mileage_per_year</th>\n",
       "      <td>-2745.978195</td>\n",
       "      <td>2.656292e+08</td>\n",
       "      <td>-1392.863771</td>\n",
       "      <td>8.891277e+02</td>\n",
       "      <td>2337.296281</td>\n",
       "      <td>3.738988e+07</td>\n",
       "      <td>-4.759557e-04</td>\n",
       "      <td>-1.805952e+07</td>\n",
       "    </tr>\n",
       "    <tr>\n",
       "      <th>brand_popularity</th>\n",
       "      <td>-0.000005</td>\n",
       "      <td>5.667725e-02</td>\n",
       "      <td>0.001783</td>\n",
       "      <td>-4.307409e-08</td>\n",
       "      <td>0.000005</td>\n",
       "      <td>-4.759557e-04</td>\n",
       "      <td>5.506671e-08</td>\n",
       "      <td>1.806058e-01</td>\n",
       "    </tr>\n",
       "    <tr>\n",
       "      <th>price</th>\n",
       "      <td>35294.671211</td>\n",
       "      <td>-6.063236e+08</td>\n",
       "      <td>836380.033775</td>\n",
       "      <td>-9.546948e+03</td>\n",
       "      <td>-34558.707600</td>\n",
       "      <td>-1.805952e+07</td>\n",
       "      <td>1.806058e-01</td>\n",
       "      <td>1.865106e+08</td>\n",
       "    </tr>\n",
       "  </tbody>\n",
       "</table>\n",
       "</div>"
      ],
      "text/plain": [
       "                           year       mileage      engine_hp   owner_count  \\\n",
       "year                  15.182354 -2.193221e+05      -0.600832 -3.901281e+00   \n",
       "mileage          -219322.148802  5.170082e+09   -7796.967274  5.702773e+04   \n",
       "engine_hp             -0.600832 -7.796967e+03    8764.045678 -6.345823e-01   \n",
       "owner_count           -3.901281  5.702773e+04      -0.634582  2.386222e+00   \n",
       "vehicle_age          -14.887997  2.150888e+05       0.521727  3.812790e+00   \n",
       "mileage_per_year   -2745.978195  2.656292e+08   -1392.863771  8.891277e+02   \n",
       "brand_popularity      -0.000005  5.667725e-02       0.001783 -4.307409e-08   \n",
       "price              35294.671211 -6.063236e+08  836380.033775 -9.546948e+03   \n",
       "\n",
       "                    vehicle_age  mileage_per_year  brand_popularity  \\\n",
       "year                 -14.887997     -2.745978e+03     -5.022443e-06   \n",
       "mileage           215088.804564      2.656292e+08      5.667725e-02   \n",
       "engine_hp              0.521727     -1.392864e+03      1.782880e-03   \n",
       "owner_count            3.812790      8.891277e+02     -4.307409e-08   \n",
       "vehicle_age           14.631122      2.337296e+03      5.158589e-06   \n",
       "mileage_per_year    2337.296281      3.738988e+07     -4.759557e-04   \n",
       "brand_popularity       0.000005     -4.759557e-04      5.506671e-08   \n",
       "price             -34558.707600     -1.805952e+07      1.806058e-01   \n",
       "\n",
       "                         price  \n",
       "year              3.529467e+04  \n",
       "mileage          -6.063236e+08  \n",
       "engine_hp         8.363800e+05  \n",
       "owner_count      -9.546948e+03  \n",
       "vehicle_age      -3.455871e+04  \n",
       "mileage_per_year -1.805952e+07  \n",
       "brand_popularity  1.806058e-01  \n",
       "price             1.865106e+08  "
      ]
     },
     "execution_count": 17,
     "metadata": {},
     "output_type": "execute_result"
    }
   ],
   "source": [
    "numeric_df.cov()"
   ]
  },
  {
   "cell_type": "markdown",
   "id": "fc1353ff-4567-42a3-ae47-39e7ec42a9ea",
   "metadata": {},
   "source": [
    "# What does the covariance between Year and Price indicate about their relationship?"
   ]
  },
  {
   "cell_type": "markdown",
   "id": "fd099308-c98e-4fd0-9beb-2e68e1e4667a",
   "metadata": {},
   "source": [
    "The covariance between Year and Price is 35,294.67, which is positive, indicating that as the year of the car increases (newer models), the price also tends to increase."
   ]
  },
  {
   "cell_type": "code",
   "execution_count": 3,
   "id": "d7233158-9534-4ec1-9efe-8120c6a780e6",
   "metadata": {},
   "outputs": [],
   "source": [
    "df=dataset.copy()"
   ]
  },
  {
   "cell_type": "markdown",
   "id": "d21096ad-6466-4311-b129-53f90b093813",
   "metadata": {},
   "source": [
    "# Is there a significant difference in car prices between Electric and Diesel vehicles?"
   ]
  },
  {
   "cell_type": "code",
   "execution_count": 25,
   "id": "0c652803-d3c1-4eb9-9aad-15d647817b4f",
   "metadata": {},
   "outputs": [
    {
     "data": {
      "text/plain": [
       "TtestResult(statistic=10.564662552429668, pvalue=4.665994462103537e-26, df=44441.0)"
      ]
     },
     "execution_count": 25,
     "metadata": {},
     "output_type": "execute_result"
    }
   ],
   "source": [
    "from scipy.stats import ttest_ind\n",
    "group1 = df[df['fuel_type'] == 'Electric']['price']\n",
    "group2 = df[df['fuel_type'] == 'Diesel']['price']\n",
    "\n",
    "ttest_ind(group1, group2)"
   ]
  },
  {
   "cell_type": "markdown",
   "id": "ef010716-a2ba-4d4a-97a0-85143777c81e",
   "metadata": {},
   "source": [
    "Since the p-value is far less than 0.05, the difference in average prices between Electric and Diesel cars is statistically significant.\n",
    "This means that Electric vehicles tend to have significantly higher prices than Diesel vehicles, likely due to newer technology, higher production costs, and premium positioning in the market."
   ]
  },
  {
   "cell_type": "code",
   "execution_count": null,
   "id": "7048b361-0f3d-4b46-b5a3-c4fe82bdd8ca",
   "metadata": {},
   "outputs": [],
   "source": []
  }
 ],
 "metadata": {
  "kernelspec": {
   "display_name": "Python 3 (ipykernel)",
   "language": "python",
   "name": "python3"
  },
  "language_info": {
   "codemirror_mode": {
    "name": "ipython",
    "version": 3
   },
   "file_extension": ".py",
   "mimetype": "text/x-python",
   "name": "python",
   "nbconvert_exporter": "python",
   "pygments_lexer": "ipython3",
   "version": "3.12.4"
  }
 },
 "nbformat": 4,
 "nbformat_minor": 5
}
