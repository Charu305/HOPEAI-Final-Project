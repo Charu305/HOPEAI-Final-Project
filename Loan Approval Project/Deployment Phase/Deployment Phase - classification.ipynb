{
 "cells": [
  {
   "cell_type": "code",
   "execution_count": 6,
   "id": "65494544-6f7d-4e81-951c-f769882fa664",
   "metadata": {},
   "outputs": [],
   "source": [
    "import pickle\n",
    "import numpy as np\n",
    "import warnings\n",
    "warnings.filterwarnings(\"ignore\")"
   ]
  },
  {
   "cell_type": "code",
   "execution_count": 3,
   "id": "22b073fb-1c22-450d-baac-1a8620af54b5",
   "metadata": {},
   "outputs": [],
   "source": [
    "sc = pickle.load(open('Scaler.pkl', 'rb'))"
   ]
  },
  {
   "cell_type": "code",
   "execution_count": 16,
   "id": "5628f91e-1154-4e84-9e49-d2772f7916ec",
   "metadata": {},
   "outputs": [],
   "source": [
    "with open('best_xgb_model.pkl', 'rb') as f:\n",
    "    data = pickle.load(f)\n",
    "best_xgb = data['model']\n",
    "best_t = data['threshold']"
   ]
  },
  {
   "cell_type": "code",
   "execution_count": 17,
   "id": "c108bdce-14b9-40a4-86d5-8caa4f5295ed",
   "metadata": {},
   "outputs": [],
   "source": [
    "input_data = np.array([[12282.0, 2, 1000.000, 11.14, 0.08, 504.0, 1]])\n",
    "input_scaled = sc.transform(input_data)"
   ]
  },
  {
   "cell_type": "code",
   "execution_count": 18,
   "id": "c8b6318c-7919-466d-acaf-70ea7d810758",
   "metadata": {},
   "outputs": [],
   "source": [
    "pred = best_xgb.predict_proba(input_scaled)[:, 1]\n",
    "approval = (pred >= best_t).astype(int)"
   ]
  },
  {
   "cell_type": "code",
   "execution_count": 19,
   "id": "8114ca9e-4cf5-4b34-87e4-99ddbc7232e5",
   "metadata": {},
   "outputs": [
    {
     "name": "stdout",
     "output_type": "stream",
     "text": [
      "Loan Rejected\n"
     ]
    }
   ],
   "source": [
    "if approval:\n",
    "    print(\"Loan Approved\")\n",
    "else:\n",
    "    print(\"Loan Rejected\")"
   ]
  },
  {
   "cell_type": "code",
   "execution_count": null,
   "id": "f4bd1827-af88-4513-9417-f4388dfac57f",
   "metadata": {},
   "outputs": [],
   "source": []
  }
 ],
 "metadata": {
  "kernelspec": {
   "display_name": "Python 3 (ipykernel)",
   "language": "python",
   "name": "python3"
  },
  "language_info": {
   "codemirror_mode": {
    "name": "ipython",
    "version": 3
   },
   "file_extension": ".py",
   "mimetype": "text/x-python",
   "name": "python",
   "nbconvert_exporter": "python",
   "pygments_lexer": "ipython3",
   "version": "3.12.4"
  }
 },
 "nbformat": 4,
 "nbformat_minor": 5
}
